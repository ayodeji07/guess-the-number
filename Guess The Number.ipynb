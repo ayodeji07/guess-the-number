{
 "cells": [
  {
   "cell_type": "code",
   "execution_count": 1,
   "id": "59f8aa96",
   "metadata": {},
   "outputs": [],
   "source": [
    "# improt random \n",
    "import random"
   ]
  },
  {
   "cell_type": "code",
   "execution_count": 21,
   "id": "f560940e",
   "metadata": {},
   "outputs": [
    {
     "name": "stdout",
     "output_type": "stream",
     "text": [
      "18\n"
     ]
    }
   ],
   "source": [
    "# generating a random number\n",
    "\n",
    "random_number = random.randint(0,20)"
   ]
  },
  {
   "cell_type": "code",
   "execution_count": 22,
   "id": "6aa1cc73",
   "metadata": {},
   "outputs": [
    {
     "name": "stdout",
     "output_type": "stream",
     "text": [
      "Guess a number from 1-20: 18\n"
     ]
    }
   ],
   "source": [
    "# Get a guessed number from user\n",
    "\n",
    "guessed_number = int(input(\"Guess a number from 1-20: \"))"
   ]
  },
  {
   "cell_type": "code",
   "execution_count": 23,
   "id": "8cfbf1cb",
   "metadata": {},
   "outputs": [
    {
     "name": "stdout",
     "output_type": "stream",
     "text": [
      "Yay!, You guessed right.\n"
     ]
    }
   ],
   "source": [
    "if random_number == guessed_number:\n",
    "    print(\"Yay! You guessed right.\")\n",
    "else:\n",
    "    if random_number != guessed_number and random_number > guessed_number:\n",
    "        print(\"Sorry, you guessed wrong. The guessed number is too low.\")\n",
    "    else:\n",
    "        print(\"Sorry, you guessed wrong. The guessed number is too high.\")"
   ]
  },
  {
   "cell_type": "code",
   "execution_count": 20,
   "id": "ad759990",
   "metadata": {},
   "outputs": [
    {
     "name": "stdout",
     "output_type": "stream",
     "text": [
      "17\n"
     ]
    }
   ],
   "source": []
  },
  {
   "cell_type": "code",
   "execution_count": null,
   "id": "e4358fcc",
   "metadata": {},
   "outputs": [],
   "source": []
  }
 ],
 "metadata": {
  "kernelspec": {
   "display_name": "Python 3",
   "language": "python",
   "name": "python3"
  },
  "language_info": {
   "codemirror_mode": {
    "name": "ipython",
    "version": 3
   },
   "file_extension": ".py",
   "mimetype": "text/x-python",
   "name": "python",
   "nbconvert_exporter": "python",
   "pygments_lexer": "ipython3",
   "version": "3.8.8"
  }
 },
 "nbformat": 4,
 "nbformat_minor": 5
}
